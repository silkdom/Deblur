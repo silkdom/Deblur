{
  "nbformat": 4,
  "nbformat_minor": 0,
  "metadata": {
    "colab": {
      "name": "DeblurGANv2 Demo.ipynb",
      "provenance": [],
      "collapsed_sections": [],
      "authorship_tag": "ABX9TyN6nZ4L9umyG7sjNxfZ2ox3",
      "include_colab_link": true
    },
    "kernelspec": {
      "name": "python3",
      "display_name": "Python 3"
    }
  },
  "cells": [
    {
      "cell_type": "markdown",
      "metadata": {
        "id": "view-in-github",
        "colab_type": "text"
      },
      "source": [
        "<a href=\"https://colab.research.google.com/github/silkdom/Deblur/blob/master/DeblurGANv2_Demo.ipynb\" target=\"_parent\"><img src=\"https://colab.research.google.com/assets/colab-badge.svg\" alt=\"Open In Colab\"/></a>"
      ]
    },
    {
      "cell_type": "code",
      "metadata": {
        "id": "7qAVlkWkfJp9",
        "colab_type": "code",
        "colab": {},
        "cellView": "form"
      },
      "source": [
        "#@title #DeblurGANv2 Colab implementation\n",
        "#@markdown #### Instructions:\n",
        "#@markdown #### - Make sure to set runtime to GPU (Runtime>Change runtime type>Hardware accelerator>GPU)\n",
        "#@markdown #### - Press run arrow at top left of box\n",
        "#@markdown #### - Upload images when prompted\n",
        "#@markdown #### - Processed images will download automatically in a zipped file\n",
        "\n",
        "#@markdown #### Paper and source code can be found at: https://github.com/TAMU-VITA/DeblurGANv2\n",
        "! git clone https://github.com/silkdom/DeblurGANv2-Demo\n",
        "\n",
        "%cd DeblurGANv2-Demo\n",
        "\n",
        "! gdown --id 1UXcsRVW-6KF23_TNzxw-xC0SzaMfXOaR\n",
        "\n",
        "from google.colab import files\n",
        "from IPython import display\n",
        "display.clear_output(wait=True)\n",
        "\n",
        "%mkdir input_imgs\n",
        "%cd input_imgs\n",
        "uploaded_names = files.upload().keys()\n",
        "%cd ../\n",
        "\n",
        "! pip install -r requirements.txt\n",
        "display.clear_output(wait=True)\n",
        "\n",
        "! for f in input_imgs/*; do python predict.py $f; done\n",
        "\n",
        "!tar -cvf submit.tar submit/\n",
        "\n",
        "files.download(\"/content/DeblurGANv2-Demo/submit.tar\")"
      ],
      "execution_count": null,
      "outputs": []
    }
  ]
}